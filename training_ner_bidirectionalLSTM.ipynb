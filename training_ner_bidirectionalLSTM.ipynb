{
  "nbformat": 4,
  "nbformat_minor": 0,
  "metadata": {
    "colab": {
      "name": "training_ner_bidirectionalLSTM.ipynb",
      "provenance": [],
      "collapsed_sections": []
    },
    "kernelspec": {
      "name": "python3",
      "display_name": "Python 3"
    },
    "language_info": {
      "name": "python"
    },
    "accelerator": "GPU"
  },
  "cells": [
    {
      "cell_type": "code",
      "source": [
        "COLAB = True"
      ],
      "metadata": {
        "id": "w0c7ANlB0hlb"
      },
      "execution_count": 1,
      "outputs": []
    },
    {
      "cell_type": "code",
      "source": [
        "if COLAB:\n",
        "    %tensorflow_version 1.x"
      ],
      "metadata": {
        "id": "fHwV5UMg0k31",
        "colab": {
          "base_uri": "https://localhost:8080/"
        },
        "outputId": "d3c1ca1b-54c5-4ed5-abc4-960ffc69c46c"
      },
      "execution_count": 2,
      "outputs": [
        {
          "output_type": "stream",
          "name": "stdout",
          "text": [
            "TensorFlow 1.x selected.\n"
          ]
        }
      ]
    },
    {
      "cell_type": "code",
      "source": [
        "import numpy as np\n",
        "import pandas as pd\n",
        "import tensorflow \n",
        "\n",
        "from keras.preprocessing import sequence\n",
        "from keras.models import Sequential, Model, Input\n",
        "from keras.layers import Dense, Dropout, Embedding, LSTM, Bidirectional, TimeDistributed\n",
        "from tensorflow.keras.utils import to_categorical\n",
        "from numpy.random import seed\n",
        "from tensorflow.keras.utils import plot_model\n",
        "from keras import regularizers\n",
        "from tensorflow.keras.optimizers import Adam\n",
        "from IPython.display import SVG, clear_output, display\n",
        "from keras.utils.vis_utils import model_to_dot\n",
        "\n",
        "from matplotlib.ticker import MaxNLocator\n",
        "import matplotlib.pyplot as plt"
      ],
      "metadata": {
        "id": "CIJC2W6RAotU",
        "colab": {
          "base_uri": "https://localhost:8080/"
        },
        "outputId": "de8f3a57-55c7-4f15-8454-c53c281a924e"
      },
      "execution_count": 3,
      "outputs": [
        {
          "output_type": "stream",
          "name": "stderr",
          "text": [
            "Using TensorFlow backend.\n"
          ]
        }
      ]
    },
    {
      "cell_type": "code",
      "execution_count": 4,
      "metadata": {
        "id": "M-tqDfftrA_E"
      },
      "outputs": [],
      "source": [
        "#A function that splits each line of the files storing it in a list with the word and its corresponding tags\n",
        "\n",
        "def split_text_label(filename):\n",
        "  f = open(filename)\n",
        "  split_labeled_text = []\n",
        "  sentence = []\n",
        "  for line in f:\n",
        "    if len(line)==0 or line.startswith('-DOCSTART') or line[0]==\"\\n\":\n",
        "       if len(sentence) > 0:\n",
        "         split_labeled_text.append(sentence)\n",
        "         sentence = []\n",
        "       continue\n",
        "    splits = line.split(' ')\n",
        "    sentence.append([splits[0],splits[-1].rstrip(\"\\n\")])\n",
        "  if len(sentence) > 0:\n",
        "    split_labeled_text.append(sentence)\n",
        "    sentence = []\n",
        "  return split_labeled_text\n"
      ]
    },
    {
      "cell_type": "code",
      "source": [
        "split_train = split_text_label(\"train.txt\")\n",
        "split_valid = split_text_label(\"valid.txt\")\n",
        "split_test = split_text_label(\"test.txt\")"
      ],
      "metadata": {
        "id": "vAH4WB3uubRr"
      },
      "execution_count": 5,
      "outputs": []
    },
    {
      "cell_type": "code",
      "source": [
        "type(split_train)"
      ],
      "metadata": {
        "colab": {
          "base_uri": "https://localhost:8080/"
        },
        "id": "7NyrDCBrRg_o",
        "outputId": "0baff9f3-0afb-447a-ac30-b80845a20e9e"
      },
      "execution_count": 6,
      "outputs": [
        {
          "output_type": "execute_result",
          "data": {
            "text/plain": [
              "list"
            ]
          },
          "metadata": {},
          "execution_count": 6
        }
      ]
    },
    {
      "cell_type": "code",
      "source": [
        "split_train[10]"
      ],
      "metadata": {
        "colab": {
          "base_uri": "https://localhost:8080/"
        },
        "id": "9xcerA413OF1",
        "outputId": "e7c3f682-6fdc-4006-f731-e1587631a02e"
      },
      "execution_count": 7,
      "outputs": [
        {
          "output_type": "execute_result",
          "data": {
            "text/plain": [
              "[['Spanish', 'B-MISC'],\n",
              " ['Farm', 'O'],\n",
              " ['Minister', 'O'],\n",
              " ['Loyola', 'B-PER'],\n",
              " ['de', 'I-PER'],\n",
              " ['Palacio', 'I-PER'],\n",
              " ['had', 'O'],\n",
              " ['earlier', 'O'],\n",
              " ['accused', 'O'],\n",
              " ['Fischler', 'B-PER'],\n",
              " ['at', 'O'],\n",
              " ['an', 'O'],\n",
              " ['EU', 'B-ORG'],\n",
              " ['farm', 'O'],\n",
              " ['ministers', 'O'],\n",
              " [\"'\", 'O'],\n",
              " ['meeting', 'O'],\n",
              " ['of', 'O'],\n",
              " ['causing', 'O'],\n",
              " ['unjustified', 'O'],\n",
              " ['alarm', 'O'],\n",
              " ['through', 'O'],\n",
              " ['\"', 'O'],\n",
              " ['dangerous', 'O'],\n",
              " ['generalisation', 'O'],\n",
              " ['.', 'O'],\n",
              " ['\"', 'O']]"
            ]
          },
          "metadata": {},
          "execution_count": 7
        }
      ]
    },
    {
      "cell_type": "code",
      "source": [
        "#create a set with unique labels and a set with unique words\n",
        "\n",
        "labelSet = set()\n",
        "wordSet = set()\n",
        "# words and labels\n",
        "for data in [split_train, split_valid, split_test]:\n",
        "  for words_tags in data:\n",
        "    for word, label in words_tags:\n",
        "      labelSet.add(label)\n",
        "      wordSet.add(word.lower())"
      ],
      "metadata": {
        "id": "JkuBmZNPvqNb"
      },
      "execution_count": 8,
      "outputs": []
    },
    {
      "cell_type": "markdown",
      "source": [
        "We assign a unique number to each word and label in the vocabulary. \n",
        "\n",
        "Number 0 for ‘ZERO_WORD’ is used for token at the end of a sentence, when sentences are of unequal lenght. Some sentences are shorter or longer, and then we'll use padding as we need to have input of the same size.\n",
        "\n",
        "Number 1 for ‘UNKNOWN_WORD’. For any word that is not present in the vocabulary."
      ],
      "metadata": {
        "id": "5TumuZ67y_7Y"
      }
    },
    {
      "cell_type": "code",
      "source": [
        "# Sort the labelSet so that '0' is assigned to O\n",
        "sorted_labels = sorted(list(labelSet), key=len)\n",
        "\n",
        "# Mapping for labels\n",
        "label2Idx = {}\n",
        "for label in sorted_labels:\n",
        "  label2Idx[label] = len(label2Idx)\n",
        "idx2Label = {label: word for word, label in label2Idx.items()}\n",
        "# Create mapping for words\n",
        "word2Idx = {}\n",
        "if len(word2Idx) == 0:\n",
        "  word2Idx[\"ZERO_WORD\"] = len(word2Idx)\n",
        "  word2Idx[\"UNKNOWN_WORD\"] = len(word2Idx)\n",
        "for word in wordSet:\n",
        "  word2Idx[word] = len(word2Idx)"
      ],
      "metadata": {
        "id": "NMXSIHE6xgjf"
      },
      "execution_count": 9,
      "outputs": []
    },
    {
      "cell_type": "code",
      "source": [
        "#checking\n",
        "label2Idx"
      ],
      "metadata": {
        "colab": {
          "base_uri": "https://localhost:8080/"
        },
        "id": "BY3r-FxR9A55",
        "outputId": "26f5ac04-8c20-4a99-8f3d-2e3db6bc3cd8"
      },
      "execution_count": 10,
      "outputs": [
        {
          "output_type": "execute_result",
          "data": {
            "text/plain": [
              "{'B-LOC': 6,\n",
              " 'B-MISC': 8,\n",
              " 'B-ORG': 4,\n",
              " 'B-PER': 5,\n",
              " 'I-LOC': 3,\n",
              " 'I-MISC': 7,\n",
              " 'I-ORG': 1,\n",
              " 'I-PER': 2,\n",
              " 'O': 0}"
            ]
          },
          "metadata": {},
          "execution_count": 10
        }
      ]
    },
    {
      "cell_type": "code",
      "source": [
        "#checking\n",
        "list(word2Idx.items())[:10]"
      ],
      "metadata": {
        "colab": {
          "base_uri": "https://localhost:8080/"
        },
        "id": "pA9GhgKNcskX",
        "outputId": "cc9a796a-6a3d-4bac-b9ea-9e20d9f498c2"
      },
      "execution_count": 11,
      "outputs": [
        {
          "output_type": "execute_result",
          "data": {
            "text/plain": [
              "[('ZERO_WORD', 0),\n",
              " ('UNKNOWN_WORD', 1),\n",
              " ('retired', 2),\n",
              " ('fung', 3),\n",
              " ('battlefields', 4),\n",
              " ('rampage', 5),\n",
              " ('breen', 6),\n",
              " ('uhelna', 7),\n",
              " ('------------------------------------------------------------', 8),\n",
              " ('29.', 9)]"
            ]
          },
          "metadata": {},
          "execution_count": 11
        }
      ]
    },
    {
      "cell_type": "markdown",
      "source": [
        "In order to fit the data into any neural network, the data needs to be transformed into sequence matrices."
      ],
      "metadata": {
        "id": "lh7vVy9O0hV9"
      }
    },
    {
      "cell_type": "code",
      "source": [
        "# With this function we'll convert words and tags in matrixes\n",
        "#=======================================================================\n",
        "\n",
        "def createMatrices(data, word2Idx, label2Idx):\n",
        "  sentences = []\n",
        "  labels = []\n",
        "  for i in data:\n",
        "     wordIndices = []\n",
        "     labelIndices = []\n",
        "     for word, label in i: #i = split_labeled_text, this format [[word, label],[word, label]... ]\n",
        "       if word in word2Idx:\n",
        "          wordIdx = word2Idx[word] #wordIdx is a dictionary, so wordIdx[word] is the value that it has\n",
        "       elif word.lower() in word2Idx:\n",
        "          wordIdx = word2Idx[word.lower()]\n",
        "       else:\n",
        "          wordIdx = word2Idx['UNKNOWN_WORD']\n",
        "       wordIndices.append(wordIdx)\n",
        "       labelIndices.append(label2Idx[label]) #append the label index in fact corresponding to the label in i\n",
        "     sentences.append(wordIndices)\n",
        "     labels.append(labelIndices)\n",
        "  return sentences, labels\n",
        "\n",
        "  #we'll have a unique index of each word and its label encoded with a number: \n",
        "  #{'B-LOC': 3,'B-MISC': 8,'B-ORG': 1,'B-PER': 6,'I-LOC': 2,'I-MISC': 7,'I-ORG': 4,'I-PER': 5,'O': 0}"
      ],
      "metadata": {
        "id": "aliiaRsz1pYu"
      },
      "execution_count": 12,
      "outputs": []
    },
    {
      "cell_type": "code",
      "source": [
        "train_sentences, train_labels = createMatrices(split_train, word2Idx, label2Idx)\n",
        "valid_sentences, valid_labels = createMatrices(split_valid, word2Idx, label2Idx)\n",
        "test_sentences, test_labels = createMatrices(split_test, word2Idx, label2Idx)"
      ],
      "metadata": {
        "id": "H-G9Ak001wiP"
      },
      "execution_count": 13,
      "outputs": []
    },
    {
      "cell_type": "code",
      "source": [
        "#checking\n",
        "train_sentences[:3]\n"
      ],
      "metadata": {
        "colab": {
          "base_uri": "https://localhost:8080/"
        },
        "id": "l6MdckkIqL1E",
        "outputId": "ce425a36-a034-4c9e-adeb-9120b9448e52"
      },
      "execution_count": 14,
      "outputs": [
        {
          "output_type": "execute_result",
          "data": {
            "text/plain": [
              "[[12385, 4970, 19145, 14297, 17615, 22642, 25416, 23388, 15632],\n",
              " [20406, 23100],\n",
              " [8059, 10365]]"
            ]
          },
          "metadata": {},
          "execution_count": 14
        }
      ]
    },
    {
      "cell_type": "code",
      "source": [
        "#checking\n",
        "train_labels[:3]"
      ],
      "metadata": {
        "colab": {
          "base_uri": "https://localhost:8080/"
        },
        "id": "YZZ3Wy5NqSyh",
        "outputId": "0c0addd2-5a74-4ed5-927f-4052aea91737"
      },
      "execution_count": 15,
      "outputs": [
        {
          "output_type": "execute_result",
          "data": {
            "text/plain": [
              "[[4, 0, 8, 0, 0, 0, 8, 0, 0], [5, 2], [6, 0]]"
            ]
          },
          "metadata": {},
          "execution_count": 15
        }
      ]
    },
    {
      "cell_type": "markdown",
      "source": [
        "The sentences are of different length, so we'll need to pad the sentences and the labels to make them of the same lenght. Basically, 'sentences' is going to be the 'X' variable (train_features,test_features, valid_features) and 'labels' the 'y' variable (train_labels, test_labels, valid_labels)."
      ],
      "metadata": {
        "id": "k6R8aUCM_QPY"
      }
    },
    {
      "cell_type": "code",
      "source": [
        "#get max token (words) and tag (labels) length function\n",
        "#======================================================\n",
        "\n",
        "def maxlength(data):\n",
        "    max_length = max(len(i) for i in data)\n",
        "    return max_length\n",
        "    "
      ],
      "metadata": {
        "id": "Z95samjAoF2Z"
      },
      "execution_count": 16,
      "outputs": []
    },
    {
      "cell_type": "code",
      "source": [
        "n_word_train = maxlength(train_sentences)\n",
        "n_label_train = maxlength(train_labels)\n",
        "\n",
        "\n",
        "n_word_test = maxlength(test_sentences)\n",
        "n_label_test = maxlength(test_labels)\n",
        "\n",
        "\n",
        "n_word_valid = maxlength(valid_sentences)\n",
        "n_label_valid = maxlength(valid_labels)\n"
      ],
      "metadata": {
        "id": "oXTjXhp4s5sz"
      },
      "execution_count": 17,
      "outputs": []
    },
    {
      "cell_type": "code",
      "source": [
        "#Pad word (X var) function\n",
        "#==========================\n",
        "\n",
        "def padding_words(sets, n_words):\n",
        "  maxlen = 124 #max length of three splits is 124 and it's important for the training that they have the same shape\n",
        "  padded_words_array = sequence.pad_sequences(sets, maxlen=maxlen, padding= 'post', dtype='int32', value= n_words)\n",
        "  return padded_words_array\n",
        "#padding=” post”: add the zeros at the end of the sequence to make the samples in the same size\n",
        "\n"
      ],
      "metadata": {
        "id": "jk3C6WK1tbco"
      },
      "execution_count": 18,
      "outputs": []
    },
    {
      "cell_type": "code",
      "source": [
        "#assign to 'X' splits the padding\n",
        "train_features = padding_words(train_sentences, n_word_train,)\n",
        "test_features = padding_words(test_sentences, n_word_test) \n",
        "valid_features = padding_words(valid_sentences, n_word_valid) #must have the same changes as the training set"
      ],
      "metadata": {
        "id": "fXKaoqmg7i08"
      },
      "execution_count": 19,
      "outputs": []
    },
    {
      "cell_type": "code",
      "source": [
        "#checking\n",
        "type(train_features)"
      ],
      "metadata": {
        "colab": {
          "base_uri": "https://localhost:8080/"
        },
        "id": "Tg_o-bGP8KJK",
        "outputId": "f9e683a9-8e43-4a9e-9570-33a41a55c51d"
      },
      "execution_count": 20,
      "outputs": [
        {
          "output_type": "execute_result",
          "data": {
            "text/plain": [
              "numpy.ndarray"
            ]
          },
          "metadata": {},
          "execution_count": 20
        }
      ]
    },
    {
      "cell_type": "code",
      "source": [
        "#checking the shape\n",
        "train_features.shape, test_features.shape, valid_features.shape"
      ],
      "metadata": {
        "colab": {
          "base_uri": "https://localhost:8080/"
        },
        "id": "FqKN6tZn8gO6",
        "outputId": "2ac80842-efc5-4c91-e84e-ed368f67aeca"
      },
      "execution_count": 21,
      "outputs": [
        {
          "output_type": "execute_result",
          "data": {
            "text/plain": [
              "((14041, 124), (3453, 124), (3250, 124))"
            ]
          },
          "metadata": {},
          "execution_count": 21
        }
      ]
    },
    {
      "cell_type": "code",
      "source": [
        "#Pad labels (y var) and convert it into one hot encoding (0,1) function\n",
        "#======================================================================\n",
        "\n",
        "n_labels = len(label2Idx)\n",
        "\n",
        "def padding_labels(sets):\n",
        "  maxlen = 124 #max length of three splits is 124 and it's important for the training that they have the same shape\n",
        "  padded_labels_array = sequence.pad_sequences(sets, maxlen=maxlen, padding= 'post', dtype='int32')\n",
        "  paddet_labels_array_encod = [to_categorical(i, num_classes=n_labels) for i in padded_labels_array]\n",
        "  return paddet_labels_array_encod\n"
      ],
      "metadata": {
        "id": "MbhVMV375WGk"
      },
      "execution_count": 22,
      "outputs": []
    },
    {
      "cell_type": "code",
      "source": [
        "#assign to 'y' splits the padding and one-hot encoding\n",
        "\n",
        "train_labels = padding_labels(train_labels)\n",
        "test_labels = padding_labels(test_labels)\n",
        "valid_labels = padding_labels(valid_labels)"
      ],
      "metadata": {
        "id": "BTUplnD-DWz9"
      },
      "execution_count": 23,
      "outputs": []
    },
    {
      "cell_type": "code",
      "source": [
        "#checking\n",
        "type(test_labels)"
      ],
      "metadata": {
        "colab": {
          "base_uri": "https://localhost:8080/"
        },
        "id": "W0D-3bNQEl4M",
        "outputId": "3c11ad88-6b23-4313-85fc-221bf36d2605"
      },
      "execution_count": 24,
      "outputs": [
        {
          "output_type": "execute_result",
          "data": {
            "text/plain": [
              "list"
            ]
          },
          "metadata": {},
          "execution_count": 24
        }
      ]
    },
    {
      "cell_type": "code",
      "source": [
        "#convert to an array, the input of the RNN model must be a matrix, not a list\n",
        "\n",
        "train_labels = np.array(train_labels)\n",
        "test_labels = np.array(test_labels)\n",
        "valid_labels = np.array(valid_labels)"
      ],
      "metadata": {
        "id": "33lwNhRJElrA"
      },
      "execution_count": 25,
      "outputs": []
    },
    {
      "cell_type": "code",
      "source": [
        "#checking that shapes are correct (X=features, y=labels. Three dimensions --> sentences, words, labels)\n",
        "\n",
        "train_features.shape, test_features.shape, valid_features.shape, train_labels.shape, test_labels.shape, valid_labels.shape"
      ],
      "metadata": {
        "colab": {
          "base_uri": "https://localhost:8080/"
        },
        "id": "z9PK124pHJm6",
        "outputId": "bc690462-00ba-488f-9239-b8b68d23f023"
      },
      "execution_count": 26,
      "outputs": [
        {
          "output_type": "execute_result",
          "data": {
            "text/plain": [
              "((14041, 124),\n",
              " (3453, 124),\n",
              " (3250, 124),\n",
              " (14041, 124, 9),\n",
              " (3453, 124, 9),\n",
              " (3250, 124, 9))"
            ]
          },
          "metadata": {},
          "execution_count": 26
        }
      ]
    },
    {
      "cell_type": "markdown",
      "source": [
        "### Model architecture\n",
        "\n",
        "**Embedding label:** transforms each word into a vector of determined length. Maximum length in this case is 113 and the vector dimension we choose 62.\n",
        "\n",
        "**Bidirectional LTSM:** recurrent neural network (with memory). It gets the information from the future and from the past.\n",
        "\n",
        "**LSTM layer:** standard recurrent neural network.\n",
        "\n",
        "**TimeDistributedLayer:** this layer enables to get output from each input sequence. It's a relation of many to many. \n"
      ],
      "metadata": {
        "id": "mB2wvs2nOhx-"
      }
    },
    {
      "cell_type": "code",
      "source": [
        "seed(1)\n",
        "tensorflow.random.set_random_seed(123)"
      ],
      "metadata": {
        "id": "aO7uvZKum5BD"
      },
      "execution_count": 27,
      "outputs": []
    },
    {
      "cell_type": "code",
      "source": [
        "len(train_features)"
      ],
      "metadata": {
        "colab": {
          "base_uri": "https://localhost:8080/"
        },
        "id": "rNUdIKOjQWdE",
        "outputId": "0d78eac7-6c97-4a6a-e2d4-7697e9a53872"
      },
      "execution_count": 28,
      "outputs": [
        {
          "output_type": "execute_result",
          "data": {
            "text/plain": [
              "14041"
            ]
          },
          "metadata": {},
          "execution_count": 28
        }
      ]
    },
    {
      "cell_type": "code",
      "source": [
        "#parametres for training set\n",
        "#input_dim should be the total size of both training and validation set, remember that we had three datasets for each split (train, test, validation)\n",
        "input_dim = len(train_features)+len(train_labels)+len(valid_features)+len(valid_labels)+ 2 #total words (X and Y) + unknown word (1 per train and valid set, so it's 2)\n",
        "output_dim = 62 #max length of labels, max rows divided by 2\n",
        "input_length = 124 #max length of three splits\n",
        "n_labels = n_labels\n",
        "print('input_dim: ', input_dim, '\\noutput_dim: ', output_dim, '\\ninput_length: ', input_length, '\\nn_labels: ', n_labels)"
      ],
      "metadata": {
        "colab": {
          "base_uri": "https://localhost:8080/"
        },
        "id": "LMzouFOSm40D",
        "outputId": "37711844-4aa9-43fe-aae6-f5baeb860b66"
      },
      "execution_count": 29,
      "outputs": [
        {
          "output_type": "stream",
          "name": "stdout",
          "text": [
            "input_dim:  34584 \n",
            "output_dim:  62 \n",
            "input_length:  124 \n",
            "n_labels:  9\n"
          ]
        }
      ]
    },
    {
      "cell_type": "code",
      "source": [
        "#Defining the bidirectional LSTM model\n",
        "#=====================================\n",
        "\n",
        "def bilstm_lstm_model():\n",
        "    model = Sequential()\n",
        "\n",
        "    # Embedding layer\n",
        "    #=================\n",
        "    model.add(Embedding(input_dim=input_dim, output_dim=output_dim, input_length=input_length))\n",
        "\n",
        "    # Bidirectional LSTM\n",
        "    #====================\n",
        "    model.add(Bidirectional(LSTM(units=output_dim, return_sequences=True , dropout=0.2, recurrent_dropout=0.2), merge_mode = 'concat')) #return_sequences=True, many to many relationship\n",
        "\n",
        "    # LSTM\n",
        "    #======\n",
        "    model.add(LSTM(units=output_dim, return_sequences=True, dropout=0.5, recurrent_dropout=0.5))\n",
        "\n",
        "    # timeDistributed Layer\n",
        "    #=======================\n",
        "    model.add(TimeDistributed(Dense(n_labels, activation=\"relu\")))\n",
        "\n",
        "    # Compile model\n",
        "    #===============\n",
        "    model.compile(loss='categorical_crossentropy', optimizer='adam', metrics=['accuracy']) #categorical_crossentropy as we have many classes\n",
        "                                                                                           \n",
        "    \n",
        "    model.summary()\n",
        "    if COLAB:\n",
        "      display(SVG(model_to_dot(model,show_shapes=True,dpi=72).create(prog='dot', format='svg')))\n",
        "    else:\n",
        "      display(SVG(model_to_dot(model,show_shapes=True).create(prog='dot', format='svg')))\n",
        "    \n",
        "    return model"
      ],
      "metadata": {
        "id": "PC9a4JyPm4xQ"
      },
      "execution_count": 38,
      "outputs": []
    },
    {
      "cell_type": "markdown",
      "source": [
        "### Model training"
      ],
      "metadata": {
        "id": "qk99CSvaNFjG"
      }
    },
    {
      "cell_type": "code",
      "source": [
        "def train_model(X, y, model):\n",
        "    loss = list()\n",
        "    for i in range(20): #range is the number of epochs\n",
        "        # fit model for one epoch on this sequence\n",
        "        hist = model.fit(X, y, batch_size=1000, verbose=1, epochs=1) \n",
        "        loss.append(hist.history['loss'][0])\n",
        "    return loss"
      ],
      "metadata": {
        "id": "HoeYXnx4m4u1"
      },
      "execution_count": 39,
      "outputs": []
    },
    {
      "cell_type": "code",
      "source": [
        "train_model(train_features, train_labels, bilstm_lstm_model())"
      ],
      "metadata": {
        "colab": {
          "base_uri": "https://localhost:8080/",
          "height": 1000
        },
        "id": "cAJE2D1dm4l_",
        "outputId": "4925f16c-8df2-481b-b963-881e6508fa26"
      },
      "execution_count": 40,
      "outputs": [
        {
          "output_type": "stream",
          "name": "stdout",
          "text": [
            "Model: \"sequential_4\"\n",
            "_________________________________________________________________\n",
            "Layer (type)                 Output Shape              Param #   \n",
            "=================================================================\n",
            "embedding_4 (Embedding)      (None, 124, 62)           2144208   \n",
            "_________________________________________________________________\n",
            "bidirectional_4 (Bidirection (None, 124, 124)          62000     \n",
            "_________________________________________________________________\n",
            "lstm_8 (LSTM)                (None, 124, 62)           46376     \n",
            "_________________________________________________________________\n",
            "time_distributed_4 (TimeDist (None, 124, 9)            567       \n",
            "=================================================================\n",
            "Total params: 2,253,151\n",
            "Trainable params: 2,253,151\n",
            "Non-trainable params: 0\n",
            "_________________________________________________________________\n"
          ]
        },
        {
          "output_type": "display_data",
          "data": {
            "text/plain": [
              "<IPython.core.display.SVG object>"
            ],
            "image/svg+xml": "<svg height=\"387pt\" viewBox=\"0.00 0.00 502.00 387.00\" width=\"502pt\" xmlns=\"http://www.w3.org/2000/svg\" xmlns:xlink=\"http://www.w3.org/1999/xlink\">\n<g class=\"graph\" id=\"graph0\" transform=\"scale(1 1) rotate(0) translate(4 383)\">\n<title>G</title>\n<polygon fill=\"#ffffff\" points=\"-4,4 -4,-383 498,-383 498,4 -4,4\" stroke=\"transparent\"/>\n<!-- 140000668066064 -->\n<g class=\"node\" id=\"node1\">\n<title>140000668066064</title>\n<polygon fill=\"none\" points=\"72,-332.5 72,-378.5 422,-378.5 422,-332.5 72,-332.5\" stroke=\"#000000\"/>\n<text fill=\"#000000\" font-family=\"Times,serif\" font-size=\"14.00\" text-anchor=\"middle\" x=\"174.5\" y=\"-351.8\">embedding_4_input: InputLayer</text>\n<polyline fill=\"none\" points=\"277,-332.5 277,-378.5 \" stroke=\"#000000\"/>\n<text fill=\"#000000\" font-family=\"Times,serif\" font-size=\"14.00\" text-anchor=\"middle\" x=\"306\" y=\"-363.3\">input:</text>\n<polyline fill=\"none\" points=\"277,-355.5 335,-355.5 \" stroke=\"#000000\"/>\n<text fill=\"#000000\" font-family=\"Times,serif\" font-size=\"14.00\" text-anchor=\"middle\" x=\"306\" y=\"-340.3\">output:</text>\n<polyline fill=\"none\" points=\"335,-332.5 335,-378.5 \" stroke=\"#000000\"/>\n<text fill=\"#000000\" font-family=\"Times,serif\" font-size=\"14.00\" text-anchor=\"middle\" x=\"378.5\" y=\"-363.3\">(None, 124)</text>\n<polyline fill=\"none\" points=\"335,-355.5 422,-355.5 \" stroke=\"#000000\"/>\n<text fill=\"#000000\" font-family=\"Times,serif\" font-size=\"14.00\" text-anchor=\"middle\" x=\"378.5\" y=\"-340.3\">(None, 124)</text>\n</g>\n<!-- 140001976767504 -->\n<g class=\"node\" id=\"node2\">\n<title>140001976767504</title>\n<polygon fill=\"none\" points=\"77.5,-249.5 77.5,-295.5 416.5,-295.5 416.5,-249.5 77.5,-249.5\" stroke=\"#000000\"/>\n<text fill=\"#000000\" font-family=\"Times,serif\" font-size=\"14.00\" text-anchor=\"middle\" x=\"163\" y=\"-268.8\">embedding_4: Embedding</text>\n<polyline fill=\"none\" points=\"248.5,-249.5 248.5,-295.5 \" stroke=\"#000000\"/>\n<text fill=\"#000000\" font-family=\"Times,serif\" font-size=\"14.00\" text-anchor=\"middle\" x=\"277.5\" y=\"-280.3\">input:</text>\n<polyline fill=\"none\" points=\"248.5,-272.5 306.5,-272.5 \" stroke=\"#000000\"/>\n<text fill=\"#000000\" font-family=\"Times,serif\" font-size=\"14.00\" text-anchor=\"middle\" x=\"277.5\" y=\"-257.3\">output:</text>\n<polyline fill=\"none\" points=\"306.5,-249.5 306.5,-295.5 \" stroke=\"#000000\"/>\n<text fill=\"#000000\" font-family=\"Times,serif\" font-size=\"14.00\" text-anchor=\"middle\" x=\"361.5\" y=\"-280.3\">(None, 124)</text>\n<polyline fill=\"none\" points=\"306.5,-272.5 416.5,-272.5 \" stroke=\"#000000\"/>\n<text fill=\"#000000\" font-family=\"Times,serif\" font-size=\"14.00\" text-anchor=\"middle\" x=\"361.5\" y=\"-257.3\">(None, 124, 62)</text>\n</g>\n<!-- 140000668066064&#45;&gt;140001976767504 -->\n<g class=\"edge\" id=\"edge1\">\n<title>140000668066064-&gt;140001976767504</title>\n<path d=\"M247,-332.3799C247,-324.1745 247,-314.7679 247,-305.8786\" fill=\"none\" stroke=\"#000000\"/>\n<polygon fill=\"#000000\" points=\"250.5001,-305.784 247,-295.784 243.5001,-305.784 250.5001,-305.784\" stroke=\"#000000\"/>\n</g>\n<!-- 140000668068304 -->\n<g class=\"node\" id=\"node3\">\n<title>140000668068304</title>\n<polygon fill=\"none\" points=\"19.5,-166.5 19.5,-212.5 474.5,-212.5 474.5,-166.5 19.5,-166.5\" stroke=\"#000000\"/>\n<text fill=\"#000000\" font-family=\"Times,serif\" font-size=\"14.00\" text-anchor=\"middle\" x=\"159.5\" y=\"-185.8\">bidirectional_4(lstm_7): Bidirectional(LSTM)</text>\n<polyline fill=\"none\" points=\"299.5,-166.5 299.5,-212.5 \" stroke=\"#000000\"/>\n<text fill=\"#000000\" font-family=\"Times,serif\" font-size=\"14.00\" text-anchor=\"middle\" x=\"328.5\" y=\"-197.3\">input:</text>\n<polyline fill=\"none\" points=\"299.5,-189.5 357.5,-189.5 \" stroke=\"#000000\"/>\n<text fill=\"#000000\" font-family=\"Times,serif\" font-size=\"14.00\" text-anchor=\"middle\" x=\"328.5\" y=\"-174.3\">output:</text>\n<polyline fill=\"none\" points=\"357.5,-166.5 357.5,-212.5 \" stroke=\"#000000\"/>\n<text fill=\"#000000\" font-family=\"Times,serif\" font-size=\"14.00\" text-anchor=\"middle\" x=\"416\" y=\"-197.3\">(None, 124, 62)</text>\n<polyline fill=\"none\" points=\"357.5,-189.5 474.5,-189.5 \" stroke=\"#000000\"/>\n<text fill=\"#000000\" font-family=\"Times,serif\" font-size=\"14.00\" text-anchor=\"middle\" x=\"416\" y=\"-174.3\">(None, 124, 124)</text>\n</g>\n<!-- 140001976767504&#45;&gt;140000668068304 -->\n<g class=\"edge\" id=\"edge2\">\n<title>140001976767504-&gt;140000668068304</title>\n<path d=\"M247,-249.3799C247,-241.1745 247,-231.7679 247,-222.8786\" fill=\"none\" stroke=\"#000000\"/>\n<polygon fill=\"#000000\" points=\"250.5001,-222.784 247,-212.784 243.5001,-222.784 250.5001,-222.784\" stroke=\"#000000\"/>\n</g>\n<!-- 140002382279440 -->\n<g class=\"node\" id=\"node4\">\n<title>140002382279440</title>\n<polygon fill=\"none\" points=\"108.5,-83.5 108.5,-129.5 385.5,-129.5 385.5,-83.5 108.5,-83.5\" stroke=\"#000000\"/>\n<text fill=\"#000000\" font-family=\"Times,serif\" font-size=\"14.00\" text-anchor=\"middle\" x=\"159.5\" y=\"-102.8\">lstm_8: LSTM</text>\n<polyline fill=\"none\" points=\"210.5,-83.5 210.5,-129.5 \" stroke=\"#000000\"/>\n<text fill=\"#000000\" font-family=\"Times,serif\" font-size=\"14.00\" text-anchor=\"middle\" x=\"239.5\" y=\"-114.3\">input:</text>\n<polyline fill=\"none\" points=\"210.5,-106.5 268.5,-106.5 \" stroke=\"#000000\"/>\n<text fill=\"#000000\" font-family=\"Times,serif\" font-size=\"14.00\" text-anchor=\"middle\" x=\"239.5\" y=\"-91.3\">output:</text>\n<polyline fill=\"none\" points=\"268.5,-83.5 268.5,-129.5 \" stroke=\"#000000\"/>\n<text fill=\"#000000\" font-family=\"Times,serif\" font-size=\"14.00\" text-anchor=\"middle\" x=\"327\" y=\"-114.3\">(None, 124, 124)</text>\n<polyline fill=\"none\" points=\"268.5,-106.5 385.5,-106.5 \" stroke=\"#000000\"/>\n<text fill=\"#000000\" font-family=\"Times,serif\" font-size=\"14.00\" text-anchor=\"middle\" x=\"327\" y=\"-91.3\">(None, 124, 62)</text>\n</g>\n<!-- 140000668068304&#45;&gt;140002382279440 -->\n<g class=\"edge\" id=\"edge3\">\n<title>140000668068304-&gt;140002382279440</title>\n<path d=\"M247,-166.3799C247,-158.1745 247,-148.7679 247,-139.8786\" fill=\"none\" stroke=\"#000000\"/>\n<polygon fill=\"#000000\" points=\"250.5001,-139.784 247,-129.784 243.5001,-139.784 250.5001,-139.784\" stroke=\"#000000\"/>\n</g>\n<!-- 139998101518096 -->\n<g class=\"node\" id=\"node5\">\n<title>139998101518096</title>\n<polygon fill=\"none\" points=\"0,-.5 0,-46.5 494,-46.5 494,-.5 0,-.5\" stroke=\"#000000\"/>\n<text fill=\"#000000\" font-family=\"Times,serif\" font-size=\"14.00\" text-anchor=\"middle\" x=\"163\" y=\"-19.8\">time_distributed_4(dense_4): TimeDistributed(Dense)</text>\n<polyline fill=\"none\" points=\"326,-.5 326,-46.5 \" stroke=\"#000000\"/>\n<text fill=\"#000000\" font-family=\"Times,serif\" font-size=\"14.00\" text-anchor=\"middle\" x=\"355\" y=\"-31.3\">input:</text>\n<polyline fill=\"none\" points=\"326,-23.5 384,-23.5 \" stroke=\"#000000\"/>\n<text fill=\"#000000\" font-family=\"Times,serif\" font-size=\"14.00\" text-anchor=\"middle\" x=\"355\" y=\"-8.3\">output:</text>\n<polyline fill=\"none\" points=\"384,-.5 384,-46.5 \" stroke=\"#000000\"/>\n<text fill=\"#000000\" font-family=\"Times,serif\" font-size=\"14.00\" text-anchor=\"middle\" x=\"439\" y=\"-31.3\">(None, 124, 62)</text>\n<polyline fill=\"none\" points=\"384,-23.5 494,-23.5 \" stroke=\"#000000\"/>\n<text fill=\"#000000\" font-family=\"Times,serif\" font-size=\"14.00\" text-anchor=\"middle\" x=\"439\" y=\"-8.3\">(None, 124, 9)</text>\n</g>\n<!-- 140002382279440&#45;&gt;139998101518096 -->\n<g class=\"edge\" id=\"edge4\">\n<title>140002382279440-&gt;139998101518096</title>\n<path d=\"M247,-83.3799C247,-75.1745 247,-65.7679 247,-56.8786\" fill=\"none\" stroke=\"#000000\"/>\n<polygon fill=\"#000000\" points=\"250.5001,-56.784 247,-46.784 243.5001,-56.784 250.5001,-56.784\" stroke=\"#000000\"/>\n</g>\n</g>\n</svg>"
          },
          "metadata": {}
        },
        {
          "output_type": "stream",
          "name": "stdout",
          "text": [
            "Epoch 1/1\n",
            "14041/14041 [==============================] - 5s 378us/step - loss: 1.3565 - accuracy: 0.8833\n",
            "Epoch 1/1\n",
            "14041/14041 [==============================] - 5s 323us/step - loss: 0.3128 - accuracy: 0.9804\n",
            "Epoch 1/1\n",
            "14041/14041 [==============================] - 5s 321us/step - loss: 0.2978 - accuracy: 0.9804\n",
            "Epoch 1/1\n",
            "14041/14041 [==============================] - 5s 323us/step - loss: 0.2809 - accuracy: 0.9804\n",
            "Epoch 1/1\n",
            "14041/14041 [==============================] - 5s 325us/step - loss: 0.2783 - accuracy: 0.9804\n",
            "Epoch 1/1\n",
            "14041/14041 [==============================] - 5s 323us/step - loss: 0.2764 - accuracy: 0.9804\n",
            "Epoch 1/1\n",
            "14041/14041 [==============================] - 5s 323us/step - loss: 0.2721 - accuracy: 0.9804\n",
            "Epoch 1/1\n",
            "14041/14041 [==============================] - 5s 323us/step - loss: 0.2711 - accuracy: 0.9804\n",
            "Epoch 1/1\n",
            "14041/14041 [==============================] - 5s 329us/step - loss: 0.2649 - accuracy: 0.9804\n",
            "Epoch 1/1\n",
            "14041/14041 [==============================] - 5s 328us/step - loss: 0.2327 - accuracy: 0.9804\n",
            "Epoch 1/1\n",
            "14041/14041 [==============================] - 5s 331us/step - loss: 0.2158 - accuracy: 0.9804\n",
            "Epoch 1/1\n",
            "14041/14041 [==============================] - 5s 387us/step - loss: 0.2008 - accuracy: 0.9803\n",
            "Epoch 1/1\n",
            "14041/14041 [==============================] - 5s 324us/step - loss: 0.1873 - accuracy: 0.9802\n",
            "Epoch 1/1\n",
            "14041/14041 [==============================] - 5s 325us/step - loss: 0.1802 - accuracy: 0.9801\n",
            "Epoch 1/1\n",
            "14041/14041 [==============================] - 5s 326us/step - loss: 0.1564 - accuracy: 0.9803\n",
            "Epoch 1/1\n",
            "14041/14041 [==============================] - 5s 322us/step - loss: 0.1296 - accuracy: 0.9804\n",
            "Epoch 1/1\n",
            "14041/14041 [==============================] - 5s 323us/step - loss: 0.1208 - accuracy: 0.9803\n",
            "Epoch 1/1\n",
            "14041/14041 [==============================] - 5s 327us/step - loss: 0.1309 - accuracy: 0.9774\n",
            "Epoch 1/1\n",
            "14041/14041 [==============================] - 5s 326us/step - loss: 0.1222 - accuracy: 0.9777\n",
            "Epoch 1/1\n",
            "14041/14041 [==============================] - 5s 324us/step - loss: 0.1098 - accuracy: 0.9796\n"
          ]
        },
        {
          "output_type": "execute_result",
          "data": {
            "text/plain": [
              "[1.3564560839265731,\n",
              " 0.31280909554332287,\n",
              " 0.2977943553534696,\n",
              " 0.28085070717399274,\n",
              " 0.278319596382519,\n",
              " 0.2764210409386173,\n",
              " 0.2720517860621386,\n",
              " 0.2710657600226136,\n",
              " 0.26492966822635144,\n",
              " 0.23272895676616284,\n",
              " 0.21576512520953076,\n",
              " 0.2008283724855149,\n",
              " 0.18730580032754765,\n",
              " 0.18024654543711396,\n",
              " 0.15643105408581784,\n",
              " 0.12962156523370089,\n",
              " 0.12081600766986891,\n",
              " 0.13092481627180555,\n",
              " 0.12216800233189617,\n",
              " 0.1097837087266016]"
            ]
          },
          "metadata": {},
          "execution_count": 40
        }
      ]
    },
    {
      "cell_type": "code",
      "source": [
        "model_bilstm= bilstm_lstm_model() #storing the model in model_bilstm variable"
      ],
      "metadata": {
        "colab": {
          "base_uri": "https://localhost:8080/",
          "height": 815
        },
        "id": "hGrrNZI2N0r0",
        "outputId": "9cbb75f1-a2d6-46f6-bece-c52940a5d054"
      },
      "execution_count": 41,
      "outputs": [
        {
          "output_type": "stream",
          "name": "stdout",
          "text": [
            "Model: \"sequential_5\"\n",
            "_________________________________________________________________\n",
            "Layer (type)                 Output Shape              Param #   \n",
            "=================================================================\n",
            "embedding_5 (Embedding)      (None, 124, 62)           2144208   \n",
            "_________________________________________________________________\n",
            "bidirectional_5 (Bidirection (None, 124, 124)          62000     \n",
            "_________________________________________________________________\n",
            "lstm_10 (LSTM)               (None, 124, 62)           46376     \n",
            "_________________________________________________________________\n",
            "time_distributed_5 (TimeDist (None, 124, 9)            567       \n",
            "=================================================================\n",
            "Total params: 2,253,151\n",
            "Trainable params: 2,253,151\n",
            "Non-trainable params: 0\n",
            "_________________________________________________________________\n"
          ]
        },
        {
          "output_type": "display_data",
          "data": {
            "text/plain": [
              "<IPython.core.display.SVG object>"
            ],
            "image/svg+xml": "<svg height=\"387pt\" viewBox=\"0.00 0.00 502.00 387.00\" width=\"502pt\" xmlns=\"http://www.w3.org/2000/svg\" xmlns:xlink=\"http://www.w3.org/1999/xlink\">\n<g class=\"graph\" id=\"graph0\" transform=\"scale(1 1) rotate(0) translate(4 383)\">\n<title>G</title>\n<polygon fill=\"#ffffff\" points=\"-4,4 -4,-383 498,-383 498,4 -4,4\" stroke=\"transparent\"/>\n<!-- 140002382383888 -->\n<g class=\"node\" id=\"node1\">\n<title>140002382383888</title>\n<polygon fill=\"none\" points=\"72,-332.5 72,-378.5 422,-378.5 422,-332.5 72,-332.5\" stroke=\"#000000\"/>\n<text fill=\"#000000\" font-family=\"Times,serif\" font-size=\"14.00\" text-anchor=\"middle\" x=\"174.5\" y=\"-351.8\">embedding_5_input: InputLayer</text>\n<polyline fill=\"none\" points=\"277,-332.5 277,-378.5 \" stroke=\"#000000\"/>\n<text fill=\"#000000\" font-family=\"Times,serif\" font-size=\"14.00\" text-anchor=\"middle\" x=\"306\" y=\"-363.3\">input:</text>\n<polyline fill=\"none\" points=\"277,-355.5 335,-355.5 \" stroke=\"#000000\"/>\n<text fill=\"#000000\" font-family=\"Times,serif\" font-size=\"14.00\" text-anchor=\"middle\" x=\"306\" y=\"-340.3\">output:</text>\n<polyline fill=\"none\" points=\"335,-332.5 335,-378.5 \" stroke=\"#000000\"/>\n<text fill=\"#000000\" font-family=\"Times,serif\" font-size=\"14.00\" text-anchor=\"middle\" x=\"378.5\" y=\"-363.3\">(None, 124)</text>\n<polyline fill=\"none\" points=\"335,-355.5 422,-355.5 \" stroke=\"#000000\"/>\n<text fill=\"#000000\" font-family=\"Times,serif\" font-size=\"14.00\" text-anchor=\"middle\" x=\"378.5\" y=\"-340.3\">(None, 124)</text>\n</g>\n<!-- 139998105067216 -->\n<g class=\"node\" id=\"node2\">\n<title>139998105067216</title>\n<polygon fill=\"none\" points=\"77.5,-249.5 77.5,-295.5 416.5,-295.5 416.5,-249.5 77.5,-249.5\" stroke=\"#000000\"/>\n<text fill=\"#000000\" font-family=\"Times,serif\" font-size=\"14.00\" text-anchor=\"middle\" x=\"163\" y=\"-268.8\">embedding_5: Embedding</text>\n<polyline fill=\"none\" points=\"248.5,-249.5 248.5,-295.5 \" stroke=\"#000000\"/>\n<text fill=\"#000000\" font-family=\"Times,serif\" font-size=\"14.00\" text-anchor=\"middle\" x=\"277.5\" y=\"-280.3\">input:</text>\n<polyline fill=\"none\" points=\"248.5,-272.5 306.5,-272.5 \" stroke=\"#000000\"/>\n<text fill=\"#000000\" font-family=\"Times,serif\" font-size=\"14.00\" text-anchor=\"middle\" x=\"277.5\" y=\"-257.3\">output:</text>\n<polyline fill=\"none\" points=\"306.5,-249.5 306.5,-295.5 \" stroke=\"#000000\"/>\n<text fill=\"#000000\" font-family=\"Times,serif\" font-size=\"14.00\" text-anchor=\"middle\" x=\"361.5\" y=\"-280.3\">(None, 124)</text>\n<polyline fill=\"none\" points=\"306.5,-272.5 416.5,-272.5 \" stroke=\"#000000\"/>\n<text fill=\"#000000\" font-family=\"Times,serif\" font-size=\"14.00\" text-anchor=\"middle\" x=\"361.5\" y=\"-257.3\">(None, 124, 62)</text>\n</g>\n<!-- 140002382383888&#45;&gt;139998105067216 -->\n<g class=\"edge\" id=\"edge1\">\n<title>140002382383888-&gt;139998105067216</title>\n<path d=\"M247,-332.3799C247,-324.1745 247,-314.7679 247,-305.8786\" fill=\"none\" stroke=\"#000000\"/>\n<polygon fill=\"#000000\" points=\"250.5001,-305.784 247,-295.784 243.5001,-305.784 250.5001,-305.784\" stroke=\"#000000\"/>\n</g>\n<!-- 140001976768592 -->\n<g class=\"node\" id=\"node3\">\n<title>140001976768592</title>\n<polygon fill=\"none\" points=\"19.5,-166.5 19.5,-212.5 474.5,-212.5 474.5,-166.5 19.5,-166.5\" stroke=\"#000000\"/>\n<text fill=\"#000000\" font-family=\"Times,serif\" font-size=\"14.00\" text-anchor=\"middle\" x=\"159.5\" y=\"-185.8\">bidirectional_5(lstm_9): Bidirectional(LSTM)</text>\n<polyline fill=\"none\" points=\"299.5,-166.5 299.5,-212.5 \" stroke=\"#000000\"/>\n<text fill=\"#000000\" font-family=\"Times,serif\" font-size=\"14.00\" text-anchor=\"middle\" x=\"328.5\" y=\"-197.3\">input:</text>\n<polyline fill=\"none\" points=\"299.5,-189.5 357.5,-189.5 \" stroke=\"#000000\"/>\n<text fill=\"#000000\" font-family=\"Times,serif\" font-size=\"14.00\" text-anchor=\"middle\" x=\"328.5\" y=\"-174.3\">output:</text>\n<polyline fill=\"none\" points=\"357.5,-166.5 357.5,-212.5 \" stroke=\"#000000\"/>\n<text fill=\"#000000\" font-family=\"Times,serif\" font-size=\"14.00\" text-anchor=\"middle\" x=\"416\" y=\"-197.3\">(None, 124, 62)</text>\n<polyline fill=\"none\" points=\"357.5,-189.5 474.5,-189.5 \" stroke=\"#000000\"/>\n<text fill=\"#000000\" font-family=\"Times,serif\" font-size=\"14.00\" text-anchor=\"middle\" x=\"416\" y=\"-174.3\">(None, 124, 124)</text>\n</g>\n<!-- 139998105067216&#45;&gt;140001976768592 -->\n<g class=\"edge\" id=\"edge2\">\n<title>139998105067216-&gt;140001976768592</title>\n<path d=\"M247,-249.3799C247,-241.1745 247,-231.7679 247,-222.8786\" fill=\"none\" stroke=\"#000000\"/>\n<polygon fill=\"#000000\" points=\"250.5001,-222.784 247,-212.784 243.5001,-222.784 250.5001,-222.784\" stroke=\"#000000\"/>\n</g>\n<!-- 139998105900560 -->\n<g class=\"node\" id=\"node4\">\n<title>139998105900560</title>\n<polygon fill=\"none\" points=\"104.5,-83.5 104.5,-129.5 389.5,-129.5 389.5,-83.5 104.5,-83.5\" stroke=\"#000000\"/>\n<text fill=\"#000000\" font-family=\"Times,serif\" font-size=\"14.00\" text-anchor=\"middle\" x=\"159.5\" y=\"-102.8\">lstm_10: LSTM</text>\n<polyline fill=\"none\" points=\"214.5,-83.5 214.5,-129.5 \" stroke=\"#000000\"/>\n<text fill=\"#000000\" font-family=\"Times,serif\" font-size=\"14.00\" text-anchor=\"middle\" x=\"243.5\" y=\"-114.3\">input:</text>\n<polyline fill=\"none\" points=\"214.5,-106.5 272.5,-106.5 \" stroke=\"#000000\"/>\n<text fill=\"#000000\" font-family=\"Times,serif\" font-size=\"14.00\" text-anchor=\"middle\" x=\"243.5\" y=\"-91.3\">output:</text>\n<polyline fill=\"none\" points=\"272.5,-83.5 272.5,-129.5 \" stroke=\"#000000\"/>\n<text fill=\"#000000\" font-family=\"Times,serif\" font-size=\"14.00\" text-anchor=\"middle\" x=\"331\" y=\"-114.3\">(None, 124, 124)</text>\n<polyline fill=\"none\" points=\"272.5,-106.5 389.5,-106.5 \" stroke=\"#000000\"/>\n<text fill=\"#000000\" font-family=\"Times,serif\" font-size=\"14.00\" text-anchor=\"middle\" x=\"331\" y=\"-91.3\">(None, 124, 62)</text>\n</g>\n<!-- 140001976768592&#45;&gt;139998105900560 -->\n<g class=\"edge\" id=\"edge3\">\n<title>140001976768592-&gt;139998105900560</title>\n<path d=\"M247,-166.3799C247,-158.1745 247,-148.7679 247,-139.8786\" fill=\"none\" stroke=\"#000000\"/>\n<polygon fill=\"#000000\" points=\"250.5001,-139.784 247,-129.784 243.5001,-139.784 250.5001,-139.784\" stroke=\"#000000\"/>\n</g>\n<!-- 140001977212752 -->\n<g class=\"node\" id=\"node5\">\n<title>140001977212752</title>\n<polygon fill=\"none\" points=\"0,-.5 0,-46.5 494,-46.5 494,-.5 0,-.5\" stroke=\"#000000\"/>\n<text fill=\"#000000\" font-family=\"Times,serif\" font-size=\"14.00\" text-anchor=\"middle\" x=\"163\" y=\"-19.8\">time_distributed_5(dense_5): TimeDistributed(Dense)</text>\n<polyline fill=\"none\" points=\"326,-.5 326,-46.5 \" stroke=\"#000000\"/>\n<text fill=\"#000000\" font-family=\"Times,serif\" font-size=\"14.00\" text-anchor=\"middle\" x=\"355\" y=\"-31.3\">input:</text>\n<polyline fill=\"none\" points=\"326,-23.5 384,-23.5 \" stroke=\"#000000\"/>\n<text fill=\"#000000\" font-family=\"Times,serif\" font-size=\"14.00\" text-anchor=\"middle\" x=\"355\" y=\"-8.3\">output:</text>\n<polyline fill=\"none\" points=\"384,-.5 384,-46.5 \" stroke=\"#000000\"/>\n<text fill=\"#000000\" font-family=\"Times,serif\" font-size=\"14.00\" text-anchor=\"middle\" x=\"439\" y=\"-31.3\">(None, 124, 62)</text>\n<polyline fill=\"none\" points=\"384,-23.5 494,-23.5 \" stroke=\"#000000\"/>\n<text fill=\"#000000\" font-family=\"Times,serif\" font-size=\"14.00\" text-anchor=\"middle\" x=\"439\" y=\"-8.3\">(None, 124, 9)</text>\n</g>\n<!-- 139998105900560&#45;&gt;140001977212752 -->\n<g class=\"edge\" id=\"edge4\">\n<title>139998105900560-&gt;140001977212752</title>\n<path d=\"M247,-83.3799C247,-75.1745 247,-65.7679 247,-56.8786\" fill=\"none\" stroke=\"#000000\"/>\n<polygon fill=\"#000000\" points=\"250.5001,-56.784 247,-46.784 243.5001,-56.784 250.5001,-56.784\" stroke=\"#000000\"/>\n</g>\n</g>\n</svg>"
          },
          "metadata": {}
        }
      ]
    },
    {
      "cell_type": "code",
      "source": [
        ""
      ],
      "metadata": {
        "id": "nSYyQeiH4kz7"
      },
      "execution_count": 41,
      "outputs": []
    },
    {
      "cell_type": "code",
      "source": [
        "model_bilstm= bilstm_lstm_model()"
      ],
      "metadata": {
        "colab": {
          "base_uri": "https://localhost:8080/",
          "height": 815
        },
        "outputId": "1c4e3074-227b-445c-b195-a8bb320fedb5",
        "id": "wZMPA4rY4ldG"
      },
      "execution_count": 42,
      "outputs": [
        {
          "output_type": "stream",
          "name": "stdout",
          "text": [
            "Model: \"sequential_6\"\n",
            "_________________________________________________________________\n",
            "Layer (type)                 Output Shape              Param #   \n",
            "=================================================================\n",
            "embedding_6 (Embedding)      (None, 124, 62)           2144208   \n",
            "_________________________________________________________________\n",
            "bidirectional_6 (Bidirection (None, 124, 124)          62000     \n",
            "_________________________________________________________________\n",
            "lstm_12 (LSTM)               (None, 124, 62)           46376     \n",
            "_________________________________________________________________\n",
            "time_distributed_6 (TimeDist (None, 124, 9)            567       \n",
            "=================================================================\n",
            "Total params: 2,253,151\n",
            "Trainable params: 2,253,151\n",
            "Non-trainable params: 0\n",
            "_________________________________________________________________\n"
          ]
        },
        {
          "output_type": "display_data",
          "data": {
            "text/plain": [
              "<IPython.core.display.SVG object>"
            ],
            "image/svg+xml": "<svg height=\"387pt\" viewBox=\"0.00 0.00 502.00 387.00\" width=\"502pt\" xmlns=\"http://www.w3.org/2000/svg\" xmlns:xlink=\"http://www.w3.org/1999/xlink\">\n<g class=\"graph\" id=\"graph0\" transform=\"scale(1 1) rotate(0) translate(4 383)\">\n<title>G</title>\n<polygon fill=\"#ffffff\" points=\"-4,4 -4,-383 498,-383 498,4 -4,4\" stroke=\"transparent\"/>\n<!-- 139998104075536 -->\n<g class=\"node\" id=\"node1\">\n<title>139998104075536</title>\n<polygon fill=\"none\" points=\"72,-332.5 72,-378.5 422,-378.5 422,-332.5 72,-332.5\" stroke=\"#000000\"/>\n<text fill=\"#000000\" font-family=\"Times,serif\" font-size=\"14.00\" text-anchor=\"middle\" x=\"174.5\" y=\"-351.8\">embedding_6_input: InputLayer</text>\n<polyline fill=\"none\" points=\"277,-332.5 277,-378.5 \" stroke=\"#000000\"/>\n<text fill=\"#000000\" font-family=\"Times,serif\" font-size=\"14.00\" text-anchor=\"middle\" x=\"306\" y=\"-363.3\">input:</text>\n<polyline fill=\"none\" points=\"277,-355.5 335,-355.5 \" stroke=\"#000000\"/>\n<text fill=\"#000000\" font-family=\"Times,serif\" font-size=\"14.00\" text-anchor=\"middle\" x=\"306\" y=\"-340.3\">output:</text>\n<polyline fill=\"none\" points=\"335,-332.5 335,-378.5 \" stroke=\"#000000\"/>\n<text fill=\"#000000\" font-family=\"Times,serif\" font-size=\"14.00\" text-anchor=\"middle\" x=\"378.5\" y=\"-363.3\">(None, 124)</text>\n<polyline fill=\"none\" points=\"335,-355.5 422,-355.5 \" stroke=\"#000000\"/>\n<text fill=\"#000000\" font-family=\"Times,serif\" font-size=\"14.00\" text-anchor=\"middle\" x=\"378.5\" y=\"-340.3\">(None, 124)</text>\n</g>\n<!-- 139998100437136 -->\n<g class=\"node\" id=\"node2\">\n<title>139998100437136</title>\n<polygon fill=\"none\" points=\"77.5,-249.5 77.5,-295.5 416.5,-295.5 416.5,-249.5 77.5,-249.5\" stroke=\"#000000\"/>\n<text fill=\"#000000\" font-family=\"Times,serif\" font-size=\"14.00\" text-anchor=\"middle\" x=\"163\" y=\"-268.8\">embedding_6: Embedding</text>\n<polyline fill=\"none\" points=\"248.5,-249.5 248.5,-295.5 \" stroke=\"#000000\"/>\n<text fill=\"#000000\" font-family=\"Times,serif\" font-size=\"14.00\" text-anchor=\"middle\" x=\"277.5\" y=\"-280.3\">input:</text>\n<polyline fill=\"none\" points=\"248.5,-272.5 306.5,-272.5 \" stroke=\"#000000\"/>\n<text fill=\"#000000\" font-family=\"Times,serif\" font-size=\"14.00\" text-anchor=\"middle\" x=\"277.5\" y=\"-257.3\">output:</text>\n<polyline fill=\"none\" points=\"306.5,-249.5 306.5,-295.5 \" stroke=\"#000000\"/>\n<text fill=\"#000000\" font-family=\"Times,serif\" font-size=\"14.00\" text-anchor=\"middle\" x=\"361.5\" y=\"-280.3\">(None, 124)</text>\n<polyline fill=\"none\" points=\"306.5,-272.5 416.5,-272.5 \" stroke=\"#000000\"/>\n<text fill=\"#000000\" font-family=\"Times,serif\" font-size=\"14.00\" text-anchor=\"middle\" x=\"361.5\" y=\"-257.3\">(None, 124, 62)</text>\n</g>\n<!-- 139998104075536&#45;&gt;139998100437136 -->\n<g class=\"edge\" id=\"edge1\">\n<title>139998104075536-&gt;139998100437136</title>\n<path d=\"M247,-332.3799C247,-324.1745 247,-314.7679 247,-305.8786\" fill=\"none\" stroke=\"#000000\"/>\n<polygon fill=\"#000000\" points=\"250.5001,-305.784 247,-295.784 243.5001,-305.784 250.5001,-305.784\" stroke=\"#000000\"/>\n</g>\n<!-- 139998104073488 -->\n<g class=\"node\" id=\"node3\">\n<title>139998104073488</title>\n<polygon fill=\"none\" points=\"16,-166.5 16,-212.5 478,-212.5 478,-166.5 16,-166.5\" stroke=\"#000000\"/>\n<text fill=\"#000000\" font-family=\"Times,serif\" font-size=\"14.00\" text-anchor=\"middle\" x=\"159.5\" y=\"-185.8\">bidirectional_6(lstm_11): Bidirectional(LSTM)</text>\n<polyline fill=\"none\" points=\"303,-166.5 303,-212.5 \" stroke=\"#000000\"/>\n<text fill=\"#000000\" font-family=\"Times,serif\" font-size=\"14.00\" text-anchor=\"middle\" x=\"332\" y=\"-197.3\">input:</text>\n<polyline fill=\"none\" points=\"303,-189.5 361,-189.5 \" stroke=\"#000000\"/>\n<text fill=\"#000000\" font-family=\"Times,serif\" font-size=\"14.00\" text-anchor=\"middle\" x=\"332\" y=\"-174.3\">output:</text>\n<polyline fill=\"none\" points=\"361,-166.5 361,-212.5 \" stroke=\"#000000\"/>\n<text fill=\"#000000\" font-family=\"Times,serif\" font-size=\"14.00\" text-anchor=\"middle\" x=\"419.5\" y=\"-197.3\">(None, 124, 62)</text>\n<polyline fill=\"none\" points=\"361,-189.5 478,-189.5 \" stroke=\"#000000\"/>\n<text fill=\"#000000\" font-family=\"Times,serif\" font-size=\"14.00\" text-anchor=\"middle\" x=\"419.5\" y=\"-174.3\">(None, 124, 124)</text>\n</g>\n<!-- 139998100437136&#45;&gt;139998104073488 -->\n<g class=\"edge\" id=\"edge2\">\n<title>139998100437136-&gt;139998104073488</title>\n<path d=\"M247,-249.3799C247,-241.1745 247,-231.7679 247,-222.8786\" fill=\"none\" stroke=\"#000000\"/>\n<polygon fill=\"#000000\" points=\"250.5001,-222.784 247,-212.784 243.5001,-222.784 250.5001,-222.784\" stroke=\"#000000\"/>\n</g>\n<!-- 140000668924496 -->\n<g class=\"node\" id=\"node4\">\n<title>140000668924496</title>\n<polygon fill=\"none\" points=\"104.5,-83.5 104.5,-129.5 389.5,-129.5 389.5,-83.5 104.5,-83.5\" stroke=\"#000000\"/>\n<text fill=\"#000000\" font-family=\"Times,serif\" font-size=\"14.00\" text-anchor=\"middle\" x=\"159.5\" y=\"-102.8\">lstm_12: LSTM</text>\n<polyline fill=\"none\" points=\"214.5,-83.5 214.5,-129.5 \" stroke=\"#000000\"/>\n<text fill=\"#000000\" font-family=\"Times,serif\" font-size=\"14.00\" text-anchor=\"middle\" x=\"243.5\" y=\"-114.3\">input:</text>\n<polyline fill=\"none\" points=\"214.5,-106.5 272.5,-106.5 \" stroke=\"#000000\"/>\n<text fill=\"#000000\" font-family=\"Times,serif\" font-size=\"14.00\" text-anchor=\"middle\" x=\"243.5\" y=\"-91.3\">output:</text>\n<polyline fill=\"none\" points=\"272.5,-83.5 272.5,-129.5 \" stroke=\"#000000\"/>\n<text fill=\"#000000\" font-family=\"Times,serif\" font-size=\"14.00\" text-anchor=\"middle\" x=\"331\" y=\"-114.3\">(None, 124, 124)</text>\n<polyline fill=\"none\" points=\"272.5,-106.5 389.5,-106.5 \" stroke=\"#000000\"/>\n<text fill=\"#000000\" font-family=\"Times,serif\" font-size=\"14.00\" text-anchor=\"middle\" x=\"331\" y=\"-91.3\">(None, 124, 62)</text>\n</g>\n<!-- 139998104073488&#45;&gt;140000668924496 -->\n<g class=\"edge\" id=\"edge3\">\n<title>139998104073488-&gt;140000668924496</title>\n<path d=\"M247,-166.3799C247,-158.1745 247,-148.7679 247,-139.8786\" fill=\"none\" stroke=\"#000000\"/>\n<polygon fill=\"#000000\" points=\"250.5001,-139.784 247,-129.784 243.5001,-139.784 250.5001,-139.784\" stroke=\"#000000\"/>\n</g>\n<!-- 139998102026320 -->\n<g class=\"node\" id=\"node5\">\n<title>139998102026320</title>\n<polygon fill=\"none\" points=\"0,-.5 0,-46.5 494,-46.5 494,-.5 0,-.5\" stroke=\"#000000\"/>\n<text fill=\"#000000\" font-family=\"Times,serif\" font-size=\"14.00\" text-anchor=\"middle\" x=\"163\" y=\"-19.8\">time_distributed_6(dense_6): TimeDistributed(Dense)</text>\n<polyline fill=\"none\" points=\"326,-.5 326,-46.5 \" stroke=\"#000000\"/>\n<text fill=\"#000000\" font-family=\"Times,serif\" font-size=\"14.00\" text-anchor=\"middle\" x=\"355\" y=\"-31.3\">input:</text>\n<polyline fill=\"none\" points=\"326,-23.5 384,-23.5 \" stroke=\"#000000\"/>\n<text fill=\"#000000\" font-family=\"Times,serif\" font-size=\"14.00\" text-anchor=\"middle\" x=\"355\" y=\"-8.3\">output:</text>\n<polyline fill=\"none\" points=\"384,-.5 384,-46.5 \" stroke=\"#000000\"/>\n<text fill=\"#000000\" font-family=\"Times,serif\" font-size=\"14.00\" text-anchor=\"middle\" x=\"439\" y=\"-31.3\">(None, 124, 62)</text>\n<polyline fill=\"none\" points=\"384,-23.5 494,-23.5 \" stroke=\"#000000\"/>\n<text fill=\"#000000\" font-family=\"Times,serif\" font-size=\"14.00\" text-anchor=\"middle\" x=\"439\" y=\"-8.3\">(None, 124, 9)</text>\n</g>\n<!-- 140000668924496&#45;&gt;139998102026320 -->\n<g class=\"edge\" id=\"edge4\">\n<title>140000668924496-&gt;139998102026320</title>\n<path d=\"M247,-83.3799C247,-75.1745 247,-65.7679 247,-56.8786\" fill=\"none\" stroke=\"#000000\"/>\n<polygon fill=\"#000000\" points=\"250.5001,-56.784 247,-46.784 243.5001,-56.784 250.5001,-56.784\" stroke=\"#000000\"/>\n</g>\n</g>\n</svg>"
          },
          "metadata": {}
        }
      ]
    },
    {
      "cell_type": "markdown",
      "source": [
        "### How good is the model-performance in each iteration?"
      ],
      "metadata": {
        "id": "rSMoWEQ1NOiw"
      }
    },
    {
      "cell_type": "code",
      "metadata": {
        "id": "vm_DmnnQw9lQ"
      },
      "source": [
        "def train_plot(tr_acc, val_acc, tr_loss, val_loss, best_i,\n",
        "                          figsize=(10,4)):\n",
        "    plt.figure(figsize=figsize)\n",
        "    ax = plt.subplot(1,2,1)\n",
        "    plt.plot(1+np.arange(len(tr_acc)),  100*np.array(tr_acc))\n",
        "    plt.plot(1+np.arange(len(val_acc)), 100*np.array(val_acc))\n",
        "    plt.plot(1+best_i, 100*val_acc[best_i], 'or')\n",
        "    plt.title('accuracy rate of the model (%)', fontsize=18)\n",
        "    plt.ylabel('accuracy rate (%)', fontsize=18)\n",
        "    plt.xlabel('epoch', fontsize=18)\n",
        "    plt.legend(['training', 'validation'], loc='upper left')\n",
        "    ax.xaxis.set_major_locator(MaxNLocator(integer=True))\n",
        "\n",
        "    plt.subplot(1,2,2)\n",
        "    plt.plot(1+np.arange(len(tr_acc)), np.array(tr_loss))\n",
        "    plt.plot(1+np.arange(len(val_acc)), np.array(val_loss))\n",
        "    plt.plot(1+best_i, val_loss[best_i], 'or')\n",
        "    plt.title('loss of the model', fontsize=18)\n",
        "    plt.ylabel('loss', fontsize=18)\n",
        "    plt.xlabel('epoch', fontsize=18)\n",
        "    plt.legend(['training', 'validation'], loc='upper left')\n",
        "    ax.xaxis.set_major_locator(MaxNLocator(integer=True))\n",
        "    plt.show()"
      ],
      "execution_count": 43,
      "outputs": []
    },
    {
      "cell_type": "code",
      "metadata": {
        "id": "Z1oyxGLEbgrV"
      },
      "source": [
        "batch_size = 512\n",
        "nepocas = 100\n",
        "\n",
        "best_val_acc  = 0\n",
        "best_val_loss = 1e20\n",
        "best_i        = 0\n",
        "\n",
        "best_weights = []\n",
        "acum_tr_acc = []\n",
        "acum_tr_loss = []\n",
        "acum_val_acc = []\n",
        "acum_val_loss = []"
      ],
      "execution_count": 44,
      "outputs": []
    },
    {
      "cell_type": "code",
      "metadata": {
        "id": "993JD2e_w9lY",
        "colab": {
          "base_uri": "https://localhost:8080/",
          "height": 307
        },
        "outputId": "2fe3664c-e928-4c77-c0c9-dec5ed43bcb3"
      },
      "source": [
        "for e in range(nepocas):\n",
        "  h = model_bilstm.fit(train_features, train_labels,\n",
        "                batch_size=batch_size,\n",
        "                validation_data=(valid_features, valid_labels),\n",
        "                epochs=1, verbose=1)\n",
        "  \n",
        "  acum_tr_acc  = acum_tr_acc  + h.history['accuracy']\n",
        "  acum_tr_loss = acum_tr_loss + h.history['loss']\n",
        "  val_acc  = h.history['val_accuracy'][0]\n",
        "  val_loss = h.history['val_loss'][0]\n",
        "  acum_val_acc  = acum_val_acc  + [val_acc]\n",
        "  acum_val_loss = acum_val_loss + [val_loss]\n",
        "#  if val_acc  > best_val_acc:\n",
        "  if val_loss < best_val_loss:\n",
        "    best_i        = len(acum_val_acc)-1\n",
        "    best_val_acc  = val_acc\n",
        "    best_val_loss = val_loss\n",
        "    best_weights = model_bilstm.get_weights().copy()\n",
        "  if len(acum_tr_acc)>1 and (len(acum_tr_acc)+1) % 1 == 0:\n",
        "    if e>1:\n",
        "      clear_output()\n",
        "    train_plot(acum_tr_acc, acum_val_acc, acum_tr_loss, acum_val_loss, best_i)"
      ],
      "execution_count": 45,
      "outputs": [
        {
          "output_type": "display_data",
          "data": {
            "text/plain": [
              "<Figure size 720x288 with 2 Axes>"
            ],
            "image/png": "[encoded data removed]"
          },
          "metadata": {
            "needs_background": "light"
          }
        }
      ]
    },
    {
      "cell_type": "code",
      "source": [
        "#things to be improved: try another batch size and learning rate"
      ],
      "metadata": {
        "id": "0d874inNEMcw"
      },
      "execution_count": null,
      "outputs": []
    }
  ]
}